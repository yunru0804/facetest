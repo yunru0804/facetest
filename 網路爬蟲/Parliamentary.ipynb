{
 "cells": [
  {
   "cell_type": "code",
   "execution_count": 4,
   "id": "96e6987c",
   "metadata": {},
   "outputs": [],
   "source": [
    "import requests as req\n",
    "from bs4 import BeautifulSoup as bs\n",
    "import re\n",
    "import os\n",
    "import time"
   ]
  },
  {
   "cell_type": "code",
   "execution_count": 9,
   "id": "a5b65d0e",
   "metadata": {},
   "outputs": [],
   "source": [
    "my_hearders={\"user-agent\":\"Mozilla/5.0 (Windows NT 10.0; Win64; x64) AppleWebKit/537.36 (KHTML, like Gecko) Chrome/95.0.4638.69 Safari/537.36\"}\n",
    "folderpath = 'Parliamentary'\n",
    "if not os.path.exists(folderpath):\n",
    "    os.makedirs(folderpath)\n",
    "    \n",
    "global Parliamentary_name\n",
    "global Parliamentary_img\n",
    "Parliamentary_name=[]\n",
    "Parliamentary_img=[]"
   ]
  },
  {
   "cell_type": "code",
   "execution_count": 15,
   "id": "645adea0",
   "metadata": {},
   "outputs": [
    {
     "ename": "SyntaxError",
     "evalue": "invalid syntax (<ipython-input-15-d30083a86c6a>, line 13)",
     "output_type": "error",
     "traceback": [
      "\u001b[1;36m  File \u001b[1;32m\"<ipython-input-15-d30083a86c6a>\"\u001b[1;36m, line \u001b[1;32m13\u001b[0m\n\u001b[1;33m    i=i.split('src=\"')[1]\u001b[0m\n\u001b[1;37m    ^\u001b[0m\n\u001b[1;31mSyntaxError\u001b[0m\u001b[1;31m:\u001b[0m invalid syntax\n"
     ]
    }
   ],
   "source": [
    "def findParliamentary():\n",
    "\n",
    "    url = \"https://www.ntp.gov.tw/councilor-all?program=37\"\n",
    "    res = req.get(url,headers = my_hearders)\n",
    "    soup = bs(res.text,\"lxml\")\n",
    "    element = soup.select(\"div.list img\")\n",
    "    \n",
    "    print(element)\n",
    "    for i in element:\n",
    "        i=str(i).split('alt=\"')[1]\n",
    "        if i.split(\"成員 \")[0] not in Parliamentary_name:\n",
    "            Parliamentary_name.append(i.split(\"成員 \")[0]\n",
    "            print(i.split(\" )\n",
    "        i=i.split('src=\"')[1]\n",
    "\n"
   ]
  },
  {
   "cell_type": "code",
   "execution_count": 12,
   "id": "a74dbeae",
   "metadata": {},
   "outputs": [],
   "source": [
    "def downloadimg(name,img):\n",
    "    f = open('Parliamentary.text','w',encoding='utf-8')\n",
    "    for i in range(len(img)):\n",
    "        os.system(f\"curl {img[i]} -o {folderpath}/{name[i]}.jpg\")\n",
    "        f.write(name[i]+\",\\n\")\n",
    "    f,close()"
   ]
  },
  {
   "cell_type": "code",
   "execution_count": 13,
   "id": "3339d403",
   "metadata": {},
   "outputs": [
    {
     "name": "stdout",
     "output_type": "stream",
     "text": [
      "[<img alt=\"成員 陳偉杰議員\" src=\"https://www.ntp.gov.tw/upload/Z_Councilor/N20181214163313.jpg\"/>, <img alt=\"成員 鄭宇恩議員\" src=\"https://www.ntp.gov.tw/upload/Z_Councilor/鄭宇思.jpg\"/>, <img alt=\"成員 鄭戴麗香議員大頭照議員\" src=\"https://www.ntp.gov.tw/upload/Z_Councilor/鄭戴麗香.jpg\"/>, <img alt=\"成員 蔡錦賢議員大頭照議員\" src=\"https://www.ntp.gov.tw/upload/Z_Councilor/4.蔡錦賢.png\"/>, <img alt=\"成員 蔡淑君議員大頭照議員\" src=\"https://www.ntp.gov.tw/upload/Z_Councilor/N20181214162457.jpg\"/>, <img alt=\"成員 陳明義議員大頭照議員\" src=\"https://www.ntp.gov.tw/upload/Z_Councilor/N20181214161858.jpg\"/>, <img alt=\"成員 蔣根煌議員大頭照議員\" src=\"https://www.ntp.gov.tw/upload/Z_Councilor/議長.jpg\"/>, <img alt=\"成員 蔡健棠議員\" src=\"https://www.ntp.gov.tw/upload/Z_Councilor/蔡健棠2吋大頭照-彩色.jpg\"/>, <img alt=\"成員 陳文治議員大頭照議員\" src=\"https://www.ntp.gov.tw/upload/Z_Councilor/N20181214161631.jpg\"/>, <img alt=\"成員 鍾宏仁議員\" src=\"https://www.ntp.gov.tw/upload/Z_Councilor/N2014122114425.jpg\"/>, <img alt=\"成員 宋明宗議員大頭照議員\" src=\"https://www.ntp.gov.tw/upload/Z_Councilor/N20181214161517.jpg\"/>, <img alt=\"成員 陳科名議員大頭照議員\" src=\"https://www.ntp.gov.tw/upload/Z_Councilor/TTCC1643.jpg\"/>, <img alt=\"成員 賴秋媚議員大頭照議員\" src=\"https://www.ntp.gov.tw/upload/Z_Councilor/賴秋媚.jpg\"/>, <img alt=\"成員 黃林玲玲議員大頭照議員\" src=\"https://www.ntp.gov.tw/upload/Z_Councilor/N2018121416433.jpg\"/>, <img alt=\"成員 何淑?議員大頭照議員\" src=\"https://www.ntp.gov.tw/upload/Z_Councilor/TTCC1540.jpg\"/>, <img alt=\"成員 王威元議員\" src=\"https://www.ntp.gov.tw/upload/Z_Councilor/N20181210163143.jpg\"/>, <img alt=\"成員 李翁月娥議員大頭照議員\" src=\"https://www.ntp.gov.tw/upload/Z_Councilor/16.李翁月娥.jpg\"/>, <img alt=\"成員 黃桂蘭議員大頭照議員\" src=\"https://www.ntp.gov.tw/upload/Z_Councilor/N2018121416122.jpg\"/>, <img alt=\"成員 彭佳芸議員\" src=\"https://www.ntp.gov.tw/upload/Z_Councilor/N2018121416834.jpg\"/>, <img alt=\"成員 蔡明堂議員大頭照議員\" src=\"https://www.ntp.gov.tw/upload/Z_Councilor/蔡明堂.jpg\"/>, <img alt=\"成員 李余典議員大頭照議員\" src=\"https://www.ntp.gov.tw/upload/Z_Councilor/TTCC1437.jpg\"/>, <img alt=\"成員 李坤城議員大頭照議員\" src=\"https://www.ntp.gov.tw/upload/Z_Councilor/2021/11/17/李坤城-110_144740.png\"/>, <img alt=\"成員 李倩萍議員大頭照議員\" src=\"https://www.ntp.gov.tw/upload/Z_Councilor/李倩萍.jpg\"/>, <img alt=\"成員 陳啟能議員大頭照議員\" src=\"https://www.ntp.gov.tw/upload/Z_Councilor/N20181214162625.jpg\"/>, <img alt=\"成員 林國春議員大頭照議員\" src=\"https://www.ntp.gov.tw/upload/Z_Councilor/N201812141671.jpg\"/>, <img alt=\"成員 葉元之議員\" src=\"https://www.ntp.gov.tw/upload/Z_Councilor/N20181210161941.jpg\"/>, <img alt=\"成員 何博文議員\" src=\"https://www.ntp.gov.tw/upload/Z_Councilor/26.何博文01.png\"/>, <img alt=\"成員 戴瑋姗議員\" src=\"https://www.ntp.gov.tw/upload/Z_Councilor/戴瑋姍.jpg\"/>, <img alt=\"成員 劉美芳議員大頭照議員\" src=\"https://www.ntp.gov.tw/upload/Z_Councilor/N2018121310513.jpg\"/>, <img alt=\"成員 黃俊哲議員大頭照議員\" src=\"https://www.ntp.gov.tw/upload/Z_Councilor/29.黃俊哲.jpg\"/>, <img alt=\"成員 曾煥嘉議員大頭照議員\" src=\"https://www.ntp.gov.tw/upload/Z_Councilor/30.曾煥嘉.jpg\"/>, <img alt=\"成員 周勝考議員大頭照議員\" src=\"https://www.ntp.gov.tw/upload/Z_Councilor/TTCC1410.jpg\"/>, <img alt=\"成員 王淑慧議員大頭照議員\" src=\"https://www.ntp.gov.tw/upload/Z_Councilor/王淑慧.jpg\"/>, <img alt=\"成員 金瑞龍議員大頭照議員\" src=\"https://www.ntp.gov.tw/upload/Z_Councilor/金瑞龍.jpg\"/>, <img alt=\"成員 陳錦錠議員大頭照議員\" src=\"https://www.ntp.gov.tw/upload/Z_Councilor/TTCC1312.jpg\"/>, <img alt=\"成員 邱烽堯議員大頭照議員\" src=\"https://www.ntp.gov.tw/upload/Z_Councilor/XCC0138.jpg\"/>, <img alt=\"成員 張維倩議員\" src=\"https://www.ntp.gov.tw/upload/Z_Councilor/N2019114145425.jpg\"/>, <img alt=\"成員 張志豪議員\" src=\"https://www.ntp.gov.tw/upload/Z_Councilor/N2018121416136.jpg\"/>, <img alt=\"成員 游輝宂議員\" src=\"https://www.ntp.gov.tw/upload/Z_Councilor/N20181226144750.jpg\"/>, <img alt=\"成員 連斐璠議員大頭照議員\" src=\"https://www.ntp.gov.tw/upload/Z_Councilor/N20141219165222.jpg\"/>, <img alt=\"成員 陳鴻源議員大頭照議員\" src=\"https://www.ntp.gov.tw/upload/Z_Councilor/副議長.jpg\"/>, <img alt=\"成員 羅文崇議員\" src=\"https://www.ntp.gov.tw/upload/Z_Councilor/羅文崇.jpg\"/>, <img alt=\"成員 江怡臻議員\" src=\"https://www.ntp.gov.tw/upload/Z_Councilor/N20181210164640.jpg\"/>, <img alt=\"成員 洪佳君議員大頭照議員\" src=\"https://www.ntp.gov.tw/upload/Z_Councilor/N2018122215116.jpg\"/>, <img alt=\"成員 林金結議員\" src=\"https://www.ntp.gov.tw/upload/Z_Councilor/林金結.jpg\"/>, <img alt=\"成員 廖宜琨議員\" src=\"https://www.ntp.gov.tw/upload/Z_Councilor/N20181210164947.jpg\"/>, <img alt=\"成員 林銘仁議員大頭照議員\" src=\"https://www.ntp.gov.tw/upload/Z_Councilor/45.林銘仁.jpg\"/>, <img alt=\"成員 黃永昌議員大頭照議員\" src=\"https://www.ntp.gov.tw/upload/Z_Councilor/黃永昌.jpg\"/>, <img alt=\"成員 蘇泓欽議員\" src=\"https://www.ntp.gov.tw/upload/Z_Councilor/N20181214155737.jpg\"/>, <img alt=\"成員 陳世榮議員大頭照議員\" src=\"https://www.ntp.gov.tw/upload/Z_Councilor/N20181214165021.jpg\"/>, <img alt=\"成員 彭成龍議員大頭照議員\" src=\"https://www.ntp.gov.tw/upload/Z_Councilor/彭成龍.jpg\"/>, <img alt=\"成員 高敏慧議員大頭照議員\" src=\"https://www.ntp.gov.tw/upload/Z_Councilor/50.高敏慧.jpg\"/>, <img alt=\"成員 劉哲彰議員大頭照議員\" src=\"https://www.ntp.gov.tw/upload/Z_Councilor/劉哲彰.jpg\"/>, <img alt=\"成員 陳永福議員大頭照議員\" src=\"https://www.ntp.gov.tw/upload/Z_Councilor/陳永福.jpg\"/>, <img alt=\"成員 金中玉議員大頭照議員\" src=\"https://www.ntp.gov.tw/upload/Z_Councilor/金中玉.jpg\"/>, <img alt=\"成員 陳儀君議員大頭照議員\" src=\"https://www.ntp.gov.tw/upload/Z_Councilor/55.陳儀君.jpg\"/>, <img alt=\"成員 林裔綺議員\" src=\"https://www.ntp.gov.tw/upload/Z_Councilor/N20181210171842.jpg\"/>, <img alt=\"成員 白珮茹議員大頭照議員\" src=\"https://www.ntp.gov.tw/upload/Z_Councilor/N20181214155224.jpg\"/>, <img alt=\"成員 廖先翔議員\" src=\"https://www.ntp.gov.tw/upload/Z_Councilor/N20181214154945.jpg\"/>, <img alt=\"成員 周雅玲議員大頭照議員\" src=\"https://www.ntp.gov.tw/upload/Z_Councilor/N20181214154631.jpg\"/>, <img alt=\"成員 張錦豪議員\" src=\"https://www.ntp.gov.tw/upload/Z_Councilor/錦豪大頭照.jpg\"/>, <img alt=\"成員 楊春妹議員大頭照議員\" src=\"https://www.ntp.gov.tw/upload/Z_Councilor/楊春妹.jpg\"/>, <img alt=\"成員 宋雨蓁 Nikar‧Falong議員\" src=\"https://www.ntp.gov.tw/upload/Z_Councilor/N20181214154427.jpg\"/>, <img alt=\"成員 忠仁．達祿斯議員大頭照議員\" src=\"https://www.ntp.gov.tw/upload/Z_Councilor/63.忠仁達祿斯.jpg\"/>, <img alt=\"成員 馬見Lahuy．Ipin議員\" src=\"https://www.ntp.gov.tw/upload/Z_Councilor/N2019119141339.jpg\"/>]\n"
     ]
    }
   ],
   "source": [
    "if __name__==\"__main__\":\n",
    "    findParliamentary()\n",
    "\n",
    "    downloadimg(Parliamentary_name,Parliamentary_img)\n",
    "    #print(Legislator_name)"
   ]
  },
  {
   "cell_type": "code",
   "execution_count": 4,
   "id": "9ba707b9",
   "metadata": {},
   "outputs": [
    {
     "name": "stdout",
     "output_type": "stream",
     "text": [
      "[<img alt=\"成員 陳偉杰議員\" src=\"https://www.ntp.gov.tw/upload/Z_Councilor/N20181214163313.jpg\"/>, <img alt=\"成員 鄭宇恩議員\" src=\"https://www.ntp.gov.tw/upload/Z_Councilor/鄭宇思.jpg\"/>, <img alt=\"成員 鄭戴麗香議員大頭照議員\" src=\"https://www.ntp.gov.tw/upload/Z_Councilor/鄭戴麗香.jpg\"/>, <img alt=\"成員 蔡錦賢議員大頭照議員\" src=\"https://www.ntp.gov.tw/upload/Z_Councilor/4.蔡錦賢.png\"/>, <img alt=\"成員 蔡淑君議員大頭照議員\" src=\"https://www.ntp.gov.tw/upload/Z_Councilor/N20181214162457.jpg\"/>, <img alt=\"成員 陳明義議員大頭照議員\" src=\"https://www.ntp.gov.tw/upload/Z_Councilor/N20181214161858.jpg\"/>, <img alt=\"成員 蔣根煌議員大頭照議員\" src=\"https://www.ntp.gov.tw/upload/Z_Councilor/議長.jpg\"/>, <img alt=\"成員 蔡健棠議員\" src=\"https://www.ntp.gov.tw/upload/Z_Councilor/蔡健棠2吋大頭照-彩色.jpg\"/>, <img alt=\"成員 陳文治議員大頭照議員\" src=\"https://www.ntp.gov.tw/upload/Z_Councilor/N20181214161631.jpg\"/>, <img alt=\"成員 鍾宏仁議員\" src=\"https://www.ntp.gov.tw/upload/Z_Councilor/N2014122114425.jpg\"/>, <img alt=\"成員 宋明宗議員大頭照議員\" src=\"https://www.ntp.gov.tw/upload/Z_Councilor/N20181214161517.jpg\"/>, <img alt=\"成員 陳科名議員大頭照議員\" src=\"https://www.ntp.gov.tw/upload/Z_Councilor/TTCC1643.jpg\"/>, <img alt=\"成員 賴秋媚議員大頭照議員\" src=\"https://www.ntp.gov.tw/upload/Z_Councilor/賴秋媚.jpg\"/>, <img alt=\"成員 黃林玲玲議員大頭照議員\" src=\"https://www.ntp.gov.tw/upload/Z_Councilor/N2018121416433.jpg\"/>, <img alt=\"成員 何淑?議員大頭照議員\" src=\"https://www.ntp.gov.tw/upload/Z_Councilor/TTCC1540.jpg\"/>, <img alt=\"成員 王威元議員\" src=\"https://www.ntp.gov.tw/upload/Z_Councilor/N20181210163143.jpg\"/>, <img alt=\"成員 李翁月娥議員大頭照議員\" src=\"https://www.ntp.gov.tw/upload/Z_Councilor/16.李翁月娥.jpg\"/>, <img alt=\"成員 黃桂蘭議員大頭照議員\" src=\"https://www.ntp.gov.tw/upload/Z_Councilor/N2018121416122.jpg\"/>, <img alt=\"成員 彭佳芸議員\" src=\"https://www.ntp.gov.tw/upload/Z_Councilor/N2018121416834.jpg\"/>, <img alt=\"成員 蔡明堂議員大頭照議員\" src=\"https://www.ntp.gov.tw/upload/Z_Councilor/蔡明堂.jpg\"/>, <img alt=\"成員 李余典議員大頭照議員\" src=\"https://www.ntp.gov.tw/upload/Z_Councilor/TTCC1437.jpg\"/>, <img alt=\"成員 李坤城議員大頭照議員\" src=\"https://www.ntp.gov.tw/upload/Z_Councilor/2021/11/17/李坤城-110_144740.png\"/>, <img alt=\"成員 李倩萍議員大頭照議員\" src=\"https://www.ntp.gov.tw/upload/Z_Councilor/李倩萍.jpg\"/>, <img alt=\"成員 陳啟能議員大頭照議員\" src=\"https://www.ntp.gov.tw/upload/Z_Councilor/N20181214162625.jpg\"/>, <img alt=\"成員 林國春議員大頭照議員\" src=\"https://www.ntp.gov.tw/upload/Z_Councilor/N201812141671.jpg\"/>, <img alt=\"成員 葉元之議員\" src=\"https://www.ntp.gov.tw/upload/Z_Councilor/N20181210161941.jpg\"/>, <img alt=\"成員 何博文議員\" src=\"https://www.ntp.gov.tw/upload/Z_Councilor/26.何博文01.png\"/>, <img alt=\"成員 戴瑋姗議員\" src=\"https://www.ntp.gov.tw/upload/Z_Councilor/戴瑋姍.jpg\"/>, <img alt=\"成員 劉美芳議員大頭照議員\" src=\"https://www.ntp.gov.tw/upload/Z_Councilor/N2018121310513.jpg\"/>, <img alt=\"成員 黃俊哲議員大頭照議員\" src=\"https://www.ntp.gov.tw/upload/Z_Councilor/29.黃俊哲.jpg\"/>, <img alt=\"成員 曾煥嘉議員大頭照議員\" src=\"https://www.ntp.gov.tw/upload/Z_Councilor/30.曾煥嘉.jpg\"/>, <img alt=\"成員 周勝考議員大頭照議員\" src=\"https://www.ntp.gov.tw/upload/Z_Councilor/TTCC1410.jpg\"/>, <img alt=\"成員 王淑慧議員大頭照議員\" src=\"https://www.ntp.gov.tw/upload/Z_Councilor/王淑慧.jpg\"/>, <img alt=\"成員 金瑞龍議員大頭照議員\" src=\"https://www.ntp.gov.tw/upload/Z_Councilor/金瑞龍.jpg\"/>, <img alt=\"成員 陳錦錠議員大頭照議員\" src=\"https://www.ntp.gov.tw/upload/Z_Councilor/TTCC1312.jpg\"/>, <img alt=\"成員 邱烽堯議員大頭照議員\" src=\"https://www.ntp.gov.tw/upload/Z_Councilor/XCC0138.jpg\"/>, <img alt=\"成員 張維倩議員\" src=\"https://www.ntp.gov.tw/upload/Z_Councilor/N2019114145425.jpg\"/>, <img alt=\"成員 張志豪議員\" src=\"https://www.ntp.gov.tw/upload/Z_Councilor/N2018121416136.jpg\"/>, <img alt=\"成員 游輝宂議員\" src=\"https://www.ntp.gov.tw/upload/Z_Councilor/N20181226144750.jpg\"/>, <img alt=\"成員 連斐璠議員大頭照議員\" src=\"https://www.ntp.gov.tw/upload/Z_Councilor/N20141219165222.jpg\"/>, <img alt=\"成員 陳鴻源議員大頭照議員\" src=\"https://www.ntp.gov.tw/upload/Z_Councilor/副議長.jpg\"/>, <img alt=\"成員 羅文崇議員\" src=\"https://www.ntp.gov.tw/upload/Z_Councilor/羅文崇.jpg\"/>, <img alt=\"成員 江怡臻議員\" src=\"https://www.ntp.gov.tw/upload/Z_Councilor/N20181210164640.jpg\"/>, <img alt=\"成員 洪佳君議員大頭照議員\" src=\"https://www.ntp.gov.tw/upload/Z_Councilor/N2018122215116.jpg\"/>, <img alt=\"成員 林金結議員\" src=\"https://www.ntp.gov.tw/upload/Z_Councilor/林金結.jpg\"/>, <img alt=\"成員 廖宜琨議員\" src=\"https://www.ntp.gov.tw/upload/Z_Councilor/N20181210164947.jpg\"/>, <img alt=\"成員 林銘仁議員大頭照議員\" src=\"https://www.ntp.gov.tw/upload/Z_Councilor/45.林銘仁.jpg\"/>, <img alt=\"成員 黃永昌議員大頭照議員\" src=\"https://www.ntp.gov.tw/upload/Z_Councilor/黃永昌.jpg\"/>, <img alt=\"成員 蘇泓欽議員\" src=\"https://www.ntp.gov.tw/upload/Z_Councilor/N20181214155737.jpg\"/>, <img alt=\"成員 陳世榮議員大頭照議員\" src=\"https://www.ntp.gov.tw/upload/Z_Councilor/N20181214165021.jpg\"/>, <img alt=\"成員 彭成龍議員大頭照議員\" src=\"https://www.ntp.gov.tw/upload/Z_Councilor/彭成龍.jpg\"/>, <img alt=\"成員 高敏慧議員大頭照議員\" src=\"https://www.ntp.gov.tw/upload/Z_Councilor/50.高敏慧.jpg\"/>, <img alt=\"成員 劉哲彰議員大頭照議員\" src=\"https://www.ntp.gov.tw/upload/Z_Councilor/劉哲彰.jpg\"/>, <img alt=\"成員 陳永福議員大頭照議員\" src=\"https://www.ntp.gov.tw/upload/Z_Councilor/陳永福.jpg\"/>, <img alt=\"成員 金中玉議員大頭照議員\" src=\"https://www.ntp.gov.tw/upload/Z_Councilor/金中玉.jpg\"/>, <img alt=\"成員 陳儀君議員大頭照議員\" src=\"https://www.ntp.gov.tw/upload/Z_Councilor/55.陳儀君.jpg\"/>, <img alt=\"成員 林裔綺議員\" src=\"https://www.ntp.gov.tw/upload/Z_Councilor/N20181210171842.jpg\"/>, <img alt=\"成員 白珮茹議員大頭照議員\" src=\"https://www.ntp.gov.tw/upload/Z_Councilor/N20181214155224.jpg\"/>, <img alt=\"成員 廖先翔議員\" src=\"https://www.ntp.gov.tw/upload/Z_Councilor/N20181214154945.jpg\"/>, <img alt=\"成員 周雅玲議員大頭照議員\" src=\"https://www.ntp.gov.tw/upload/Z_Councilor/N20181214154631.jpg\"/>, <img alt=\"成員 張錦豪議員\" src=\"https://www.ntp.gov.tw/upload/Z_Councilor/錦豪大頭照.jpg\"/>, <img alt=\"成員 楊春妹議員大頭照議員\" src=\"https://www.ntp.gov.tw/upload/Z_Councilor/楊春妹.jpg\"/>, <img alt=\"成員 宋雨蓁 Nikar‧Falong議員\" src=\"https://www.ntp.gov.tw/upload/Z_Councilor/N20181214154427.jpg\"/>, <img alt=\"成員 忠仁．達祿斯議員大頭照議員\" src=\"https://www.ntp.gov.tw/upload/Z_Councilor/63.忠仁達祿斯.jpg\"/>, <img alt=\"成員 馬見Lahuy．Ipin議員\" src=\"https://www.ntp.gov.tw/upload/Z_Councilor/N2019119141339.jpg\"/>]\n"
     ]
    }
   ],
   "source": [
    "#findParliamentary()"
   ]
  },
  {
   "cell_type": "code",
   "execution_count": null,
   "id": "73c4e632",
   "metadata": {},
   "outputs": [],
   "source": []
  }
 ],
 "metadata": {
  "kernelspec": {
   "display_name": "Python 3",
   "language": "python",
   "name": "python3"
  },
  "language_info": {
   "codemirror_mode": {
    "name": "ipython",
    "version": 3
   },
   "file_extension": ".py",
   "mimetype": "text/x-python",
   "name": "python",
   "nbconvert_exporter": "python",
   "pygments_lexer": "ipython3",
   "version": "3.8.8"
  }
 },
 "nbformat": 4,
 "nbformat_minor": 5
}
