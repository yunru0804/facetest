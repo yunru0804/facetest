{
 "cells": [
  {
   "cell_type": "code",
   "execution_count": 1,
   "id": "ecc0e342",
   "metadata": {
    "id": "ecc0e342"
   },
   "outputs": [],
   "source": [
    "import pandas as pd\n",
    "import csv"
   ]
  },
  {
   "cell_type": "code",
   "execution_count": 2,
   "id": "15de7a7d",
   "metadata": {
    "id": "15de7a7d",
    "outputId": "d78752fa-c648-4fab-fcda-47cb742fdf27"
   },
   "outputs": [
    {
     "data": {
      "text/plain": [
       "51"
      ]
     },
     "execution_count": 2,
     "metadata": {},
     "output_type": "execute_result"
    }
   ],
   "source": [
    "data = pd.read_csv('P聯盟籃球員.csv')\n",
    "# data2 = pd.read_csv('capitalOver1BList.csv')\n",
    "len(data)"
   ]
  },
  {
   "cell_type": "code",
   "execution_count": 3,
   "id": "94a4d6a4",
   "metadata": {
    "id": "94a4d6a4"
   },
   "outputs": [
    {
     "data": {
      "text/html": [
       "<div>\n",
       "<style scoped>\n",
       "    .dataframe tbody tr th:only-of-type {\n",
       "        vertical-align: middle;\n",
       "    }\n",
       "\n",
       "    .dataframe tbody tr th {\n",
       "        vertical-align: top;\n",
       "    }\n",
       "\n",
       "    .dataframe thead th {\n",
       "        text-align: right;\n",
       "    }\n",
       "</style>\n",
       "<table border=\"1\" class=\"dataframe\">\n",
       "  <thead>\n",
       "    <tr style=\"text-align: right;\">\n",
       "      <th></th>\n",
       "      <th>pagep</th>\n",
       "    </tr>\n",
       "  </thead>\n",
       "  <tbody>\n",
       "    <tr>\n",
       "      <th>0</th>\n",
       "      <td>賴廷恩</td>\n",
       "    </tr>\n",
       "    <tr>\n",
       "      <th>1</th>\n",
       "      <td>林書緯</td>\n",
       "    </tr>\n",
       "    <tr>\n",
       "      <th>2</th>\n",
       "      <td>簡偉儒</td>\n",
       "    </tr>\n",
       "    <tr>\n",
       "      <th>3</th>\n",
       "      <td>林冠均</td>\n",
       "    </tr>\n",
       "    <tr>\n",
       "      <th>4</th>\n",
       "      <td>張伯維</td>\n",
       "    </tr>\n",
       "    <tr>\n",
       "      <th>5</th>\n",
       "      <td>周桂羽</td>\n",
       "    </tr>\n",
       "    <tr>\n",
       "      <th>6</th>\n",
       "      <td>郭少傑</td>\n",
       "    </tr>\n",
       "    <tr>\n",
       "      <th>7</th>\n",
       "      <td>林志傑</td>\n",
       "    </tr>\n",
       "    <tr>\n",
       "      <th>8</th>\n",
       "      <td>林孟學</td>\n",
       "    </tr>\n",
       "    <tr>\n",
       "      <th>9</th>\n",
       "      <td>蔡文誠</td>\n",
       "    </tr>\n",
       "  </tbody>\n",
       "</table>\n",
       "</div>"
      ],
      "text/plain": [
       "  pagep\n",
       "0   賴廷恩\n",
       "1   林書緯\n",
       "2   簡偉儒\n",
       "3   林冠均\n",
       "4   張伯維\n",
       "5   周桂羽\n",
       "6   郭少傑\n",
       "7   林志傑\n",
       "8   林孟學\n",
       "9   蔡文誠"
      ]
     },
     "execution_count": 3,
     "metadata": {},
     "output_type": "execute_result"
    }
   ],
   "source": [
    "data.head(10)"
   ]
  },
  {
   "cell_type": "code",
   "execution_count": 4,
   "id": "8698b3e0",
   "metadata": {
    "id": "8698b3e0"
   },
   "outputs": [],
   "source": [
    "from selenium import webdriver\n",
    "from selenium.common.exceptions import TimeoutException\n",
    "from selenium.webdriver.support.ui import WebDriverWait\n",
    "from selenium.webdriver.support import expected_conditions as EC\n",
    "from selenium.webdriver.common.by import By\n",
    "from time import sleep\n",
    "import json\n",
    "import urllib\n",
    "import os,re"
   ]
  },
  {
   "cell_type": "code",
   "execution_count": 5,
   "id": "91511d68",
   "metadata": {
    "id": "91511d68"
   },
   "outputs": [
    {
     "name": "stdout",
     "output_type": "stream",
     "text": [
      "0     賴廷恩\n",
      "1     林書緯\n",
      "2     簡偉儒\n",
      "3     林冠均\n",
      "4     張伯維\n",
      "5     周桂羽\n",
      "6     郭少傑\n",
      "7     林志傑\n",
      "8     林孟學\n",
      "9     蔡文誠\n",
      "10    曾祥鈞\n",
      "11    石博恩\n",
      "12    曾文鼎\n",
      "13    張宗憲\n",
      "14    關達祐\n",
      "15    林耀宗\n",
      "16    陳世杰\n",
      "17    陳冠全\n",
      "18    孫思堯\n",
      "19    陳靖寰\n",
      "20    施晉堯\n",
      "21    彭俊諺\n",
      "22    張耕淯\n",
      "23     林正\n",
      "24    賴國維\n",
      "25    丁聖儒\n",
      "26    成力煥\n",
      "27    李家瑞\n",
      "28    蕭順議\n",
      "29    宋宇軒\n",
      "30     鄭瑋\n",
      "31    林力仁\n",
      "32    潘冠翰\n",
      "33    陳堅恩\n",
      "34    吳岱豪\n",
      "35    容毅燊\n",
      "36    盧哲毅\n",
      "37    蔡建宇\n",
      "38     田浩\n",
      "39    高國豪\n",
      "40    陳振傑\n",
      "41     田壘\n",
      "42    楊敬敏\n",
      "43    紀松佑\n",
      "44    王柏智\n",
      "45    林俊吉\n",
      "46    譚傑龍\n",
      "47    楊盛硯\n",
      "48    李德威\n",
      "49    吳松蔚\n",
      "50    金德偉\n",
      "Name: pagep, dtype: object\n"
     ]
    }
   ],
   "source": [
    "name1 = data['pagep']\n",
    "print(name1)"
   ]
  },
  {
   "cell_type": "code",
   "execution_count": 8,
   "id": "12dad71c",
   "metadata": {
    "id": "12dad71c"
   },
   "outputs": [],
   "source": [
    "options = webdriver.ChromeOptions()\n",
    "# options.add_argument(\"--headless\")                #不開啟實體瀏覽器背景執行\n",
    "options.add_argument(\"--start-maximized\")         #最大化視窗\n",
    "options.add_argument(\"--incognito\")               #開啟無痕模式\n",
    "options.add_argument(\"--disable-popup-blocking \") #禁用彈出攔截\n",
    "\n",
    "driver = webdriver.Chrome(options = options)\n",
    "#name1 = data['姓名'][325:]\n",
    "def search():\n",
    "    driver.get('https://www.google.com.tw/imghp?hl=zh-TW&ogbl')\n",
    "    sleep(3)\n",
    "    \n",
    "    for index, i in enumerate(name1):\n",
    "        if index == 0:\n",
    "            driver.find_element(By.CSS_SELECTOR, \"input.gsfi\").send_keys(i)\n",
    "            sleep(1)\n",
    "            driver.find_element(By.CSS_SELECTOR, \"button.Tg7LZd\").click()\n",
    "            sleep(15)\n",
    "        else:\n",
    "            driver.find_element(By.CSS_SELECTOR, \"input.og3lId\").send_keys(i)\n",
    "            driver.find_element(By.CSS_SELECTOR, \"button.rCGXm\").click()\n",
    "            sleep(15)\n",
    "        \n",
    "        driver.find_element(By.CSS_SELECTOR, \"input.og3lId\").clear()\n",
    "        \n",
    "    \n",
    "if __name__ == '__main__':\n",
    "    search()"
   ]
  },
  {
   "cell_type": "code",
   "execution_count": null,
   "id": "eb06c7ff",
   "metadata": {
    "id": "eb06c7ff",
    "outputId": "1d610f9c-4d68-4ae0-b941-0cb834f23463"
   },
   "outputs": [
    {
     "data": {
      "text/plain": [
       "1280       聯合報 羅國俊\n",
       "1281       聯合報 胡立台\n",
       "1282       聯合報 黃素娟\n",
       "1283       聯合報 劉永平\n",
       "1284       聯合報 王安嘉\n",
       "1285       聯合報 游美月\n",
       "1286      協機工業 林清池\n",
       "1287      協機工業 林淵池\n",
       "1288      協機工業 林金池\n",
       "1289      協機工業 謝明仁\n",
       "1290      協機工業 林城池\n",
       "1291     協機工業 古川 豊\n",
       "1292    協機工業 多島 康彥\n",
       "1293     協機工業 佐藤 聡\n",
       "1294    協機工業 中村 元春\n",
       "1295    工商財經數位 陳國瑋\n",
       "1296    工商財經數位 蔡紹中\n",
       "1297    工商財經數位 蔡旺家\n",
       "1298      百堅貿易 林忠典\n",
       "1299      百堅貿易 林柏年\n",
       "Name: search, dtype: object"
      ]
     },
     "execution_count": 72,
     "metadata": {},
     "output_type": "execute_result"
    }
   ],
   "source": [
    "df2['search'][1280:1300]"
   ]
  },
  {
   "cell_type": "code",
   "execution_count": null,
   "id": "696884da",
   "metadata": {
    "id": "696884da"
   },
   "outputs": [],
   "source": []
  }
 ],
 "metadata": {
  "colab": {
   "name": "30secPic.ipynb",
   "provenance": []
  },
  "kernelspec": {
   "display_name": "Python 3",
   "language": "python",
   "name": "python3"
  },
  "language_info": {
   "codemirror_mode": {
    "name": "ipython",
    "version": 3
   },
   "file_extension": ".py",
   "mimetype": "text/x-python",
   "name": "python",
   "nbconvert_exporter": "python",
   "pygments_lexer": "ipython3",
   "version": "3.8.8"
  }
 },
 "nbformat": 4,
 "nbformat_minor": 5
}
